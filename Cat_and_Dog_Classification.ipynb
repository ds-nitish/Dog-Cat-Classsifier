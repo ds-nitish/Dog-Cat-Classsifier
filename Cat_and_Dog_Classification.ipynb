{
  "nbformat": 4,
  "nbformat_minor": 0,
  "metadata": {
    "colab": {
      "provenance": [],
      "gpuType": "T4"
    },
    "kernelspec": {
      "name": "python3",
      "display_name": "Python 3"
    },
    "language_info": {
      "name": "python"
    },
    "accelerator": "GPU",
    "gpuClass": "standard"
  },
  "cells": [
    {
      "cell_type": "markdown",
      "source": [
        "#Importing Data From Kaggle"
      ],
      "metadata": {
        "id": "lqyFj0Y8-qGj"
      }
    },
    {
      "cell_type": "code",
      "execution_count": 1,
      "metadata": {
        "id": "mTTs_MDR2pA4"
      },
      "outputs": [],
      "source": [
        "!mkdir -p ~/.kaggle\n",
        "!cp kaggle.json ~/.kaggle/"
      ]
    },
    {
      "cell_type": "code",
      "source": [
        "!kaggle datasets download -d tongpython/cat-and-dog"
      ],
      "metadata": {
        "colab": {
          "base_uri": "https://localhost:8080/"
        },
        "id": "VaYJRF6_3CB0",
        "outputId": "d2fa6f9a-f5c6-42a6-d74c-c29b9a3b148e"
      },
      "execution_count": 2,
      "outputs": [
        {
          "output_type": "stream",
          "name": "stdout",
          "text": [
            "Warning: Your Kaggle API key is readable by other users on this system! To fix this, you can run 'chmod 600 /root/.kaggle/kaggle.json'\n",
            "Downloading cat-and-dog.zip to /content\n",
            " 99% 215M/218M [00:02<00:00, 71.7MB/s]\n",
            "100% 218M/218M [00:02<00:00, 84.2MB/s]\n"
          ]
        }
      ]
    },
    {
      "cell_type": "code",
      "source": [
        "import zipfile\n",
        "zip_ref = zipfile.ZipFile('/content/cat-and-dog.zip','r')\n",
        "zip_ref.extractall('/content')\n",
        "zip_ref.close()"
      ],
      "metadata": {
        "id": "KtCR_N6l4aI7"
      },
      "execution_count": 3,
      "outputs": []
    },
    {
      "cell_type": "code",
      "source": [
        "import matplotlib.pyplot as plt\n",
        "import numpy as np\n",
        "import pandas as pd\n",
        "import tensorflow.keras as keras\n",
        "from keras.models import Model\n",
        "from keras.layers import Dense, Dropout , Conv2D , GlobalAveragePooling2D\n",
        "from keras.applications import MobileNet\n",
        "from keras.preprocessing import image\n",
        "from keras.applications.mobilenet import preprocess_input\n",
        "from keras.preprocessing.image import ImageDataGenerator\n"
      ],
      "metadata": {
        "id": "8OQuxjnb5ZxW"
      },
      "execution_count": 4,
      "outputs": []
    },
    {
      "cell_type": "markdown",
      "source": [
        "## Making a Base Model from MobileNet"
      ],
      "metadata": {
        "id": "AiTn-uG18iVG"
      }
    },
    {
      "cell_type": "code",
      "source": [
        "base_model = MobileNet(weights = 'imagenet' , include_top =False )"
      ],
      "metadata": {
        "colab": {
          "base_uri": "https://localhost:8080/"
        },
        "id": "riFHaLPH74GJ",
        "outputId": "0e945ea5-c16c-45b0-d0a7-601f63dbba6d"
      },
      "execution_count": 5,
      "outputs": [
        {
          "output_type": "stream",
          "name": "stderr",
          "text": [
            "WARNING:tensorflow:`input_shape` is undefined or non-square, or `rows` is not in [128, 160, 192, 224]. Weights for input shape (224, 224) will be loaded as the default.\n"
          ]
        },
        {
          "output_type": "stream",
          "name": "stdout",
          "text": [
            "Downloading data from https://storage.googleapis.com/tensorflow/keras-applications/mobilenet/mobilenet_1_0_224_tf_no_top.h5\n",
            "17225924/17225924 [==============================] - 0s 0us/step\n"
          ]
        }
      ]
    },
    {
      "cell_type": "code",
      "source": [
        "base_model.summary()"
      ],
      "metadata": {
        "colab": {
          "base_uri": "https://localhost:8080/"
        },
        "id": "jLPmUELj8F4a",
        "outputId": "fce5ce1a-0bf7-4054-9954-5c3dae193cb5"
      },
      "execution_count": 6,
      "outputs": [
        {
          "output_type": "stream",
          "name": "stdout",
          "text": [
            "Model: \"mobilenet_1.00_224\"\n",
            "_________________________________________________________________\n",
            " Layer (type)                Output Shape              Param #   \n",
            "=================================================================\n",
            " input_1 (InputLayer)        [(None, None, None, 3)]   0         \n",
            "                                                                 \n",
            " conv1 (Conv2D)              (None, None, None, 32)    864       \n",
            "                                                                 \n",
            " conv1_bn (BatchNormalizatio  (None, None, None, 32)   128       \n",
            " n)                                                              \n",
            "                                                                 \n",
            " conv1_relu (ReLU)           (None, None, None, 32)    0         \n",
            "                                                                 \n",
            " conv_dw_1 (DepthwiseConv2D)  (None, None, None, 32)   288       \n",
            "                                                                 \n",
            " conv_dw_1_bn (BatchNormaliz  (None, None, None, 32)   128       \n",
            " ation)                                                          \n",
            "                                                                 \n",
            " conv_dw_1_relu (ReLU)       (None, None, None, 32)    0         \n",
            "                                                                 \n",
            " conv_pw_1 (Conv2D)          (None, None, None, 64)    2048      \n",
            "                                                                 \n",
            " conv_pw_1_bn (BatchNormaliz  (None, None, None, 64)   256       \n",
            " ation)                                                          \n",
            "                                                                 \n",
            " conv_pw_1_relu (ReLU)       (None, None, None, 64)    0         \n",
            "                                                                 \n",
            " conv_pad_2 (ZeroPadding2D)  (None, None, None, 64)    0         \n",
            "                                                                 \n",
            " conv_dw_2 (DepthwiseConv2D)  (None, None, None, 64)   576       \n",
            "                                                                 \n",
            " conv_dw_2_bn (BatchNormaliz  (None, None, None, 64)   256       \n",
            " ation)                                                          \n",
            "                                                                 \n",
            " conv_dw_2_relu (ReLU)       (None, None, None, 64)    0         \n",
            "                                                                 \n",
            " conv_pw_2 (Conv2D)          (None, None, None, 128)   8192      \n",
            "                                                                 \n",
            " conv_pw_2_bn (BatchNormaliz  (None, None, None, 128)  512       \n",
            " ation)                                                          \n",
            "                                                                 \n",
            " conv_pw_2_relu (ReLU)       (None, None, None, 128)   0         \n",
            "                                                                 \n",
            " conv_dw_3 (DepthwiseConv2D)  (None, None, None, 128)  1152      \n",
            "                                                                 \n",
            " conv_dw_3_bn (BatchNormaliz  (None, None, None, 128)  512       \n",
            " ation)                                                          \n",
            "                                                                 \n",
            " conv_dw_3_relu (ReLU)       (None, None, None, 128)   0         \n",
            "                                                                 \n",
            " conv_pw_3 (Conv2D)          (None, None, None, 128)   16384     \n",
            "                                                                 \n",
            " conv_pw_3_bn (BatchNormaliz  (None, None, None, 128)  512       \n",
            " ation)                                                          \n",
            "                                                                 \n",
            " conv_pw_3_relu (ReLU)       (None, None, None, 128)   0         \n",
            "                                                                 \n",
            " conv_pad_4 (ZeroPadding2D)  (None, None, None, 128)   0         \n",
            "                                                                 \n",
            " conv_dw_4 (DepthwiseConv2D)  (None, None, None, 128)  1152      \n",
            "                                                                 \n",
            " conv_dw_4_bn (BatchNormaliz  (None, None, None, 128)  512       \n",
            " ation)                                                          \n",
            "                                                                 \n",
            " conv_dw_4_relu (ReLU)       (None, None, None, 128)   0         \n",
            "                                                                 \n",
            " conv_pw_4 (Conv2D)          (None, None, None, 256)   32768     \n",
            "                                                                 \n",
            " conv_pw_4_bn (BatchNormaliz  (None, None, None, 256)  1024      \n",
            " ation)                                                          \n",
            "                                                                 \n",
            " conv_pw_4_relu (ReLU)       (None, None, None, 256)   0         \n",
            "                                                                 \n",
            " conv_dw_5 (DepthwiseConv2D)  (None, None, None, 256)  2304      \n",
            "                                                                 \n",
            " conv_dw_5_bn (BatchNormaliz  (None, None, None, 256)  1024      \n",
            " ation)                                                          \n",
            "                                                                 \n",
            " conv_dw_5_relu (ReLU)       (None, None, None, 256)   0         \n",
            "                                                                 \n",
            " conv_pw_5 (Conv2D)          (None, None, None, 256)   65536     \n",
            "                                                                 \n",
            " conv_pw_5_bn (BatchNormaliz  (None, None, None, 256)  1024      \n",
            " ation)                                                          \n",
            "                                                                 \n",
            " conv_pw_5_relu (ReLU)       (None, None, None, 256)   0         \n",
            "                                                                 \n",
            " conv_pad_6 (ZeroPadding2D)  (None, None, None, 256)   0         \n",
            "                                                                 \n",
            " conv_dw_6 (DepthwiseConv2D)  (None, None, None, 256)  2304      \n",
            "                                                                 \n",
            " conv_dw_6_bn (BatchNormaliz  (None, None, None, 256)  1024      \n",
            " ation)                                                          \n",
            "                                                                 \n",
            " conv_dw_6_relu (ReLU)       (None, None, None, 256)   0         \n",
            "                                                                 \n",
            " conv_pw_6 (Conv2D)          (None, None, None, 512)   131072    \n",
            "                                                                 \n",
            " conv_pw_6_bn (BatchNormaliz  (None, None, None, 512)  2048      \n",
            " ation)                                                          \n",
            "                                                                 \n",
            " conv_pw_6_relu (ReLU)       (None, None, None, 512)   0         \n",
            "                                                                 \n",
            " conv_dw_7 (DepthwiseConv2D)  (None, None, None, 512)  4608      \n",
            "                                                                 \n",
            " conv_dw_7_bn (BatchNormaliz  (None, None, None, 512)  2048      \n",
            " ation)                                                          \n",
            "                                                                 \n",
            " conv_dw_7_relu (ReLU)       (None, None, None, 512)   0         \n",
            "                                                                 \n",
            " conv_pw_7 (Conv2D)          (None, None, None, 512)   262144    \n",
            "                                                                 \n",
            " conv_pw_7_bn (BatchNormaliz  (None, None, None, 512)  2048      \n",
            " ation)                                                          \n",
            "                                                                 \n",
            " conv_pw_7_relu (ReLU)       (None, None, None, 512)   0         \n",
            "                                                                 \n",
            " conv_dw_8 (DepthwiseConv2D)  (None, None, None, 512)  4608      \n",
            "                                                                 \n",
            " conv_dw_8_bn (BatchNormaliz  (None, None, None, 512)  2048      \n",
            " ation)                                                          \n",
            "                                                                 \n",
            " conv_dw_8_relu (ReLU)       (None, None, None, 512)   0         \n",
            "                                                                 \n",
            " conv_pw_8 (Conv2D)          (None, None, None, 512)   262144    \n",
            "                                                                 \n",
            " conv_pw_8_bn (BatchNormaliz  (None, None, None, 512)  2048      \n",
            " ation)                                                          \n",
            "                                                                 \n",
            " conv_pw_8_relu (ReLU)       (None, None, None, 512)   0         \n",
            "                                                                 \n",
            " conv_dw_9 (DepthwiseConv2D)  (None, None, None, 512)  4608      \n",
            "                                                                 \n",
            " conv_dw_9_bn (BatchNormaliz  (None, None, None, 512)  2048      \n",
            " ation)                                                          \n",
            "                                                                 \n",
            " conv_dw_9_relu (ReLU)       (None, None, None, 512)   0         \n",
            "                                                                 \n",
            " conv_pw_9 (Conv2D)          (None, None, None, 512)   262144    \n",
            "                                                                 \n",
            " conv_pw_9_bn (BatchNormaliz  (None, None, None, 512)  2048      \n",
            " ation)                                                          \n",
            "                                                                 \n",
            " conv_pw_9_relu (ReLU)       (None, None, None, 512)   0         \n",
            "                                                                 \n",
            " conv_dw_10 (DepthwiseConv2D  (None, None, None, 512)  4608      \n",
            " )                                                               \n",
            "                                                                 \n",
            " conv_dw_10_bn (BatchNormali  (None, None, None, 512)  2048      \n",
            " zation)                                                         \n",
            "                                                                 \n",
            " conv_dw_10_relu (ReLU)      (None, None, None, 512)   0         \n",
            "                                                                 \n",
            " conv_pw_10 (Conv2D)         (None, None, None, 512)   262144    \n",
            "                                                                 \n",
            " conv_pw_10_bn (BatchNormali  (None, None, None, 512)  2048      \n",
            " zation)                                                         \n",
            "                                                                 \n",
            " conv_pw_10_relu (ReLU)      (None, None, None, 512)   0         \n",
            "                                                                 \n",
            " conv_dw_11 (DepthwiseConv2D  (None, None, None, 512)  4608      \n",
            " )                                                               \n",
            "                                                                 \n",
            " conv_dw_11_bn (BatchNormali  (None, None, None, 512)  2048      \n",
            " zation)                                                         \n",
            "                                                                 \n",
            " conv_dw_11_relu (ReLU)      (None, None, None, 512)   0         \n",
            "                                                                 \n",
            " conv_pw_11 (Conv2D)         (None, None, None, 512)   262144    \n",
            "                                                                 \n",
            " conv_pw_11_bn (BatchNormali  (None, None, None, 512)  2048      \n",
            " zation)                                                         \n",
            "                                                                 \n",
            " conv_pw_11_relu (ReLU)      (None, None, None, 512)   0         \n",
            "                                                                 \n",
            " conv_pad_12 (ZeroPadding2D)  (None, None, None, 512)  0         \n",
            "                                                                 \n",
            " conv_dw_12 (DepthwiseConv2D  (None, None, None, 512)  4608      \n",
            " )                                                               \n",
            "                                                                 \n",
            " conv_dw_12_bn (BatchNormali  (None, None, None, 512)  2048      \n",
            " zation)                                                         \n",
            "                                                                 \n",
            " conv_dw_12_relu (ReLU)      (None, None, None, 512)   0         \n",
            "                                                                 \n",
            " conv_pw_12 (Conv2D)         (None, None, None, 1024)  524288    \n",
            "                                                                 \n",
            " conv_pw_12_bn (BatchNormali  (None, None, None, 1024)  4096     \n",
            " zation)                                                         \n",
            "                                                                 \n",
            " conv_pw_12_relu (ReLU)      (None, None, None, 1024)  0         \n",
            "                                                                 \n",
            " conv_dw_13 (DepthwiseConv2D  (None, None, None, 1024)  9216     \n",
            " )                                                               \n",
            "                                                                 \n",
            " conv_dw_13_bn (BatchNormali  (None, None, None, 1024)  4096     \n",
            " zation)                                                         \n",
            "                                                                 \n",
            " conv_dw_13_relu (ReLU)      (None, None, None, 1024)  0         \n",
            "                                                                 \n",
            " conv_pw_13 (Conv2D)         (None, None, None, 1024)  1048576   \n",
            "                                                                 \n",
            " conv_pw_13_bn (BatchNormali  (None, None, None, 1024)  4096     \n",
            " zation)                                                         \n",
            "                                                                 \n",
            " conv_pw_13_relu (ReLU)      (None, None, None, 1024)  0         \n",
            "                                                                 \n",
            "=================================================================\n",
            "Total params: 3,228,864\n",
            "Trainable params: 3,206,976\n",
            "Non-trainable params: 21,888\n",
            "_________________________________________________________________\n"
          ]
        }
      ]
    },
    {
      "cell_type": "markdown",
      "source": [
        "#Modifing our Base Model as per our requirements"
      ],
      "metadata": {
        "id": "IWIftvfX9Oj7"
      }
    },
    {
      "cell_type": "code",
      "source": [
        "classes =2\n",
        "x= base_model.output\n",
        "x= GlobalAveragePooling2D(name ='avg_pool')(x)\n",
        "x = Dropout(0.4)(x)\n",
        "prediction = Dense(2,activation = 'softmax')(x)\n",
        "model = Model(inputs = base_model.input , outputs =prediction)"
      ],
      "metadata": {
        "id": "_m_toOCG8Z9g"
      },
      "execution_count": 7,
      "outputs": []
    },
    {
      "cell_type": "code",
      "source": [
        "model.summary()"
      ],
      "metadata": {
        "colab": {
          "base_uri": "https://localhost:8080/"
        },
        "id": "ZIHnpAy_9gWh",
        "outputId": "c134afee-0efa-4822-fb15-9693700036ac"
      },
      "execution_count": 8,
      "outputs": [
        {
          "output_type": "stream",
          "name": "stdout",
          "text": [
            "Model: \"model\"\n",
            "_________________________________________________________________\n",
            " Layer (type)                Output Shape              Param #   \n",
            "=================================================================\n",
            " input_1 (InputLayer)        [(None, None, None, 3)]   0         \n",
            "                                                                 \n",
            " conv1 (Conv2D)              (None, None, None, 32)    864       \n",
            "                                                                 \n",
            " conv1_bn (BatchNormalizatio  (None, None, None, 32)   128       \n",
            " n)                                                              \n",
            "                                                                 \n",
            " conv1_relu (ReLU)           (None, None, None, 32)    0         \n",
            "                                                                 \n",
            " conv_dw_1 (DepthwiseConv2D)  (None, None, None, 32)   288       \n",
            "                                                                 \n",
            " conv_dw_1_bn (BatchNormaliz  (None, None, None, 32)   128       \n",
            " ation)                                                          \n",
            "                                                                 \n",
            " conv_dw_1_relu (ReLU)       (None, None, None, 32)    0         \n",
            "                                                                 \n",
            " conv_pw_1 (Conv2D)          (None, None, None, 64)    2048      \n",
            "                                                                 \n",
            " conv_pw_1_bn (BatchNormaliz  (None, None, None, 64)   256       \n",
            " ation)                                                          \n",
            "                                                                 \n",
            " conv_pw_1_relu (ReLU)       (None, None, None, 64)    0         \n",
            "                                                                 \n",
            " conv_pad_2 (ZeroPadding2D)  (None, None, None, 64)    0         \n",
            "                                                                 \n",
            " conv_dw_2 (DepthwiseConv2D)  (None, None, None, 64)   576       \n",
            "                                                                 \n",
            " conv_dw_2_bn (BatchNormaliz  (None, None, None, 64)   256       \n",
            " ation)                                                          \n",
            "                                                                 \n",
            " conv_dw_2_relu (ReLU)       (None, None, None, 64)    0         \n",
            "                                                                 \n",
            " conv_pw_2 (Conv2D)          (None, None, None, 128)   8192      \n",
            "                                                                 \n",
            " conv_pw_2_bn (BatchNormaliz  (None, None, None, 128)  512       \n",
            " ation)                                                          \n",
            "                                                                 \n",
            " conv_pw_2_relu (ReLU)       (None, None, None, 128)   0         \n",
            "                                                                 \n",
            " conv_dw_3 (DepthwiseConv2D)  (None, None, None, 128)  1152      \n",
            "                                                                 \n",
            " conv_dw_3_bn (BatchNormaliz  (None, None, None, 128)  512       \n",
            " ation)                                                          \n",
            "                                                                 \n",
            " conv_dw_3_relu (ReLU)       (None, None, None, 128)   0         \n",
            "                                                                 \n",
            " conv_pw_3 (Conv2D)          (None, None, None, 128)   16384     \n",
            "                                                                 \n",
            " conv_pw_3_bn (BatchNormaliz  (None, None, None, 128)  512       \n",
            " ation)                                                          \n",
            "                                                                 \n",
            " conv_pw_3_relu (ReLU)       (None, None, None, 128)   0         \n",
            "                                                                 \n",
            " conv_pad_4 (ZeroPadding2D)  (None, None, None, 128)   0         \n",
            "                                                                 \n",
            " conv_dw_4 (DepthwiseConv2D)  (None, None, None, 128)  1152      \n",
            "                                                                 \n",
            " conv_dw_4_bn (BatchNormaliz  (None, None, None, 128)  512       \n",
            " ation)                                                          \n",
            "                                                                 \n",
            " conv_dw_4_relu (ReLU)       (None, None, None, 128)   0         \n",
            "                                                                 \n",
            " conv_pw_4 (Conv2D)          (None, None, None, 256)   32768     \n",
            "                                                                 \n",
            " conv_pw_4_bn (BatchNormaliz  (None, None, None, 256)  1024      \n",
            " ation)                                                          \n",
            "                                                                 \n",
            " conv_pw_4_relu (ReLU)       (None, None, None, 256)   0         \n",
            "                                                                 \n",
            " conv_dw_5 (DepthwiseConv2D)  (None, None, None, 256)  2304      \n",
            "                                                                 \n",
            " conv_dw_5_bn (BatchNormaliz  (None, None, None, 256)  1024      \n",
            " ation)                                                          \n",
            "                                                                 \n",
            " conv_dw_5_relu (ReLU)       (None, None, None, 256)   0         \n",
            "                                                                 \n",
            " conv_pw_5 (Conv2D)          (None, None, None, 256)   65536     \n",
            "                                                                 \n",
            " conv_pw_5_bn (BatchNormaliz  (None, None, None, 256)  1024      \n",
            " ation)                                                          \n",
            "                                                                 \n",
            " conv_pw_5_relu (ReLU)       (None, None, None, 256)   0         \n",
            "                                                                 \n",
            " conv_pad_6 (ZeroPadding2D)  (None, None, None, 256)   0         \n",
            "                                                                 \n",
            " conv_dw_6 (DepthwiseConv2D)  (None, None, None, 256)  2304      \n",
            "                                                                 \n",
            " conv_dw_6_bn (BatchNormaliz  (None, None, None, 256)  1024      \n",
            " ation)                                                          \n",
            "                                                                 \n",
            " conv_dw_6_relu (ReLU)       (None, None, None, 256)   0         \n",
            "                                                                 \n",
            " conv_pw_6 (Conv2D)          (None, None, None, 512)   131072    \n",
            "                                                                 \n",
            " conv_pw_6_bn (BatchNormaliz  (None, None, None, 512)  2048      \n",
            " ation)                                                          \n",
            "                                                                 \n",
            " conv_pw_6_relu (ReLU)       (None, None, None, 512)   0         \n",
            "                                                                 \n",
            " conv_dw_7 (DepthwiseConv2D)  (None, None, None, 512)  4608      \n",
            "                                                                 \n",
            " conv_dw_7_bn (BatchNormaliz  (None, None, None, 512)  2048      \n",
            " ation)                                                          \n",
            "                                                                 \n",
            " conv_dw_7_relu (ReLU)       (None, None, None, 512)   0         \n",
            "                                                                 \n",
            " conv_pw_7 (Conv2D)          (None, None, None, 512)   262144    \n",
            "                                                                 \n",
            " conv_pw_7_bn (BatchNormaliz  (None, None, None, 512)  2048      \n",
            " ation)                                                          \n",
            "                                                                 \n",
            " conv_pw_7_relu (ReLU)       (None, None, None, 512)   0         \n",
            "                                                                 \n",
            " conv_dw_8 (DepthwiseConv2D)  (None, None, None, 512)  4608      \n",
            "                                                                 \n",
            " conv_dw_8_bn (BatchNormaliz  (None, None, None, 512)  2048      \n",
            " ation)                                                          \n",
            "                                                                 \n",
            " conv_dw_8_relu (ReLU)       (None, None, None, 512)   0         \n",
            "                                                                 \n",
            " conv_pw_8 (Conv2D)          (None, None, None, 512)   262144    \n",
            "                                                                 \n",
            " conv_pw_8_bn (BatchNormaliz  (None, None, None, 512)  2048      \n",
            " ation)                                                          \n",
            "                                                                 \n",
            " conv_pw_8_relu (ReLU)       (None, None, None, 512)   0         \n",
            "                                                                 \n",
            " conv_dw_9 (DepthwiseConv2D)  (None, None, None, 512)  4608      \n",
            "                                                                 \n",
            " conv_dw_9_bn (BatchNormaliz  (None, None, None, 512)  2048      \n",
            " ation)                                                          \n",
            "                                                                 \n",
            " conv_dw_9_relu (ReLU)       (None, None, None, 512)   0         \n",
            "                                                                 \n",
            " conv_pw_9 (Conv2D)          (None, None, None, 512)   262144    \n",
            "                                                                 \n",
            " conv_pw_9_bn (BatchNormaliz  (None, None, None, 512)  2048      \n",
            " ation)                                                          \n",
            "                                                                 \n",
            " conv_pw_9_relu (ReLU)       (None, None, None, 512)   0         \n",
            "                                                                 \n",
            " conv_dw_10 (DepthwiseConv2D  (None, None, None, 512)  4608      \n",
            " )                                                               \n",
            "                                                                 \n",
            " conv_dw_10_bn (BatchNormali  (None, None, None, 512)  2048      \n",
            " zation)                                                         \n",
            "                                                                 \n",
            " conv_dw_10_relu (ReLU)      (None, None, None, 512)   0         \n",
            "                                                                 \n",
            " conv_pw_10 (Conv2D)         (None, None, None, 512)   262144    \n",
            "                                                                 \n",
            " conv_pw_10_bn (BatchNormali  (None, None, None, 512)  2048      \n",
            " zation)                                                         \n",
            "                                                                 \n",
            " conv_pw_10_relu (ReLU)      (None, None, None, 512)   0         \n",
            "                                                                 \n",
            " conv_dw_11 (DepthwiseConv2D  (None, None, None, 512)  4608      \n",
            " )                                                               \n",
            "                                                                 \n",
            " conv_dw_11_bn (BatchNormali  (None, None, None, 512)  2048      \n",
            " zation)                                                         \n",
            "                                                                 \n",
            " conv_dw_11_relu (ReLU)      (None, None, None, 512)   0         \n",
            "                                                                 \n",
            " conv_pw_11 (Conv2D)         (None, None, None, 512)   262144    \n",
            "                                                                 \n",
            " conv_pw_11_bn (BatchNormali  (None, None, None, 512)  2048      \n",
            " zation)                                                         \n",
            "                                                                 \n",
            " conv_pw_11_relu (ReLU)      (None, None, None, 512)   0         \n",
            "                                                                 \n",
            " conv_pad_12 (ZeroPadding2D)  (None, None, None, 512)  0         \n",
            "                                                                 \n",
            " conv_dw_12 (DepthwiseConv2D  (None, None, None, 512)  4608      \n",
            " )                                                               \n",
            "                                                                 \n",
            " conv_dw_12_bn (BatchNormali  (None, None, None, 512)  2048      \n",
            " zation)                                                         \n",
            "                                                                 \n",
            " conv_dw_12_relu (ReLU)      (None, None, None, 512)   0         \n",
            "                                                                 \n",
            " conv_pw_12 (Conv2D)         (None, None, None, 1024)  524288    \n",
            "                                                                 \n",
            " conv_pw_12_bn (BatchNormali  (None, None, None, 1024)  4096     \n",
            " zation)                                                         \n",
            "                                                                 \n",
            " conv_pw_12_relu (ReLU)      (None, None, None, 1024)  0         \n",
            "                                                                 \n",
            " conv_dw_13 (DepthwiseConv2D  (None, None, None, 1024)  9216     \n",
            " )                                                               \n",
            "                                                                 \n",
            " conv_dw_13_bn (BatchNormali  (None, None, None, 1024)  4096     \n",
            " zation)                                                         \n",
            "                                                                 \n",
            " conv_dw_13_relu (ReLU)      (None, None, None, 1024)  0         \n",
            "                                                                 \n",
            " conv_pw_13 (Conv2D)         (None, None, None, 1024)  1048576   \n",
            "                                                                 \n",
            " conv_pw_13_bn (BatchNormali  (None, None, None, 1024)  4096     \n",
            " zation)                                                         \n",
            "                                                                 \n",
            " conv_pw_13_relu (ReLU)      (None, None, None, 1024)  0         \n",
            "                                                                 \n",
            " avg_pool (GlobalAveragePool  (None, 1024)             0         \n",
            " ing2D)                                                          \n",
            "                                                                 \n",
            " dropout (Dropout)           (None, 1024)              0         \n",
            "                                                                 \n",
            " dense (Dense)               (None, 2)                 2050      \n",
            "                                                                 \n",
            "=================================================================\n",
            "Total params: 3,230,914\n",
            "Trainable params: 3,209,026\n",
            "Non-trainable params: 21,888\n",
            "_________________________________________________________________\n"
          ]
        }
      ]
    },
    {
      "cell_type": "code",
      "source": [
        "for layer in base_model.layers:\n",
        "  layer.trainable = False\n",
        "\n",
        "model.compile(optimizer = 'adam' , loss ='categorical_crossentropy' , metrics = ['accuracy'])"
      ],
      "metadata": {
        "id": "jIsIlm0o9qXu"
      },
      "execution_count": 9,
      "outputs": []
    },
    {
      "cell_type": "code",
      "source": [
        "model.summary()"
      ],
      "metadata": {
        "colab": {
          "base_uri": "https://localhost:8080/"
        },
        "id": "YPVm8BJ8-RFI",
        "outputId": "6cb22880-0024-4ecf-db4d-9a7dea78a03c"
      },
      "execution_count": 10,
      "outputs": [
        {
          "output_type": "stream",
          "name": "stdout",
          "text": [
            "Model: \"model\"\n",
            "_________________________________________________________________\n",
            " Layer (type)                Output Shape              Param #   \n",
            "=================================================================\n",
            " input_1 (InputLayer)        [(None, None, None, 3)]   0         \n",
            "                                                                 \n",
            " conv1 (Conv2D)              (None, None, None, 32)    864       \n",
            "                                                                 \n",
            " conv1_bn (BatchNormalizatio  (None, None, None, 32)   128       \n",
            " n)                                                              \n",
            "                                                                 \n",
            " conv1_relu (ReLU)           (None, None, None, 32)    0         \n",
            "                                                                 \n",
            " conv_dw_1 (DepthwiseConv2D)  (None, None, None, 32)   288       \n",
            "                                                                 \n",
            " conv_dw_1_bn (BatchNormaliz  (None, None, None, 32)   128       \n",
            " ation)                                                          \n",
            "                                                                 \n",
            " conv_dw_1_relu (ReLU)       (None, None, None, 32)    0         \n",
            "                                                                 \n",
            " conv_pw_1 (Conv2D)          (None, None, None, 64)    2048      \n",
            "                                                                 \n",
            " conv_pw_1_bn (BatchNormaliz  (None, None, None, 64)   256       \n",
            " ation)                                                          \n",
            "                                                                 \n",
            " conv_pw_1_relu (ReLU)       (None, None, None, 64)    0         \n",
            "                                                                 \n",
            " conv_pad_2 (ZeroPadding2D)  (None, None, None, 64)    0         \n",
            "                                                                 \n",
            " conv_dw_2 (DepthwiseConv2D)  (None, None, None, 64)   576       \n",
            "                                                                 \n",
            " conv_dw_2_bn (BatchNormaliz  (None, None, None, 64)   256       \n",
            " ation)                                                          \n",
            "                                                                 \n",
            " conv_dw_2_relu (ReLU)       (None, None, None, 64)    0         \n",
            "                                                                 \n",
            " conv_pw_2 (Conv2D)          (None, None, None, 128)   8192      \n",
            "                                                                 \n",
            " conv_pw_2_bn (BatchNormaliz  (None, None, None, 128)  512       \n",
            " ation)                                                          \n",
            "                                                                 \n",
            " conv_pw_2_relu (ReLU)       (None, None, None, 128)   0         \n",
            "                                                                 \n",
            " conv_dw_3 (DepthwiseConv2D)  (None, None, None, 128)  1152      \n",
            "                                                                 \n",
            " conv_dw_3_bn (BatchNormaliz  (None, None, None, 128)  512       \n",
            " ation)                                                          \n",
            "                                                                 \n",
            " conv_dw_3_relu (ReLU)       (None, None, None, 128)   0         \n",
            "                                                                 \n",
            " conv_pw_3 (Conv2D)          (None, None, None, 128)   16384     \n",
            "                                                                 \n",
            " conv_pw_3_bn (BatchNormaliz  (None, None, None, 128)  512       \n",
            " ation)                                                          \n",
            "                                                                 \n",
            " conv_pw_3_relu (ReLU)       (None, None, None, 128)   0         \n",
            "                                                                 \n",
            " conv_pad_4 (ZeroPadding2D)  (None, None, None, 128)   0         \n",
            "                                                                 \n",
            " conv_dw_4 (DepthwiseConv2D)  (None, None, None, 128)  1152      \n",
            "                                                                 \n",
            " conv_dw_4_bn (BatchNormaliz  (None, None, None, 128)  512       \n",
            " ation)                                                          \n",
            "                                                                 \n",
            " conv_dw_4_relu (ReLU)       (None, None, None, 128)   0         \n",
            "                                                                 \n",
            " conv_pw_4 (Conv2D)          (None, None, None, 256)   32768     \n",
            "                                                                 \n",
            " conv_pw_4_bn (BatchNormaliz  (None, None, None, 256)  1024      \n",
            " ation)                                                          \n",
            "                                                                 \n",
            " conv_pw_4_relu (ReLU)       (None, None, None, 256)   0         \n",
            "                                                                 \n",
            " conv_dw_5 (DepthwiseConv2D)  (None, None, None, 256)  2304      \n",
            "                                                                 \n",
            " conv_dw_5_bn (BatchNormaliz  (None, None, None, 256)  1024      \n",
            " ation)                                                          \n",
            "                                                                 \n",
            " conv_dw_5_relu (ReLU)       (None, None, None, 256)   0         \n",
            "                                                                 \n",
            " conv_pw_5 (Conv2D)          (None, None, None, 256)   65536     \n",
            "                                                                 \n",
            " conv_pw_5_bn (BatchNormaliz  (None, None, None, 256)  1024      \n",
            " ation)                                                          \n",
            "                                                                 \n",
            " conv_pw_5_relu (ReLU)       (None, None, None, 256)   0         \n",
            "                                                                 \n",
            " conv_pad_6 (ZeroPadding2D)  (None, None, None, 256)   0         \n",
            "                                                                 \n",
            " conv_dw_6 (DepthwiseConv2D)  (None, None, None, 256)  2304      \n",
            "                                                                 \n",
            " conv_dw_6_bn (BatchNormaliz  (None, None, None, 256)  1024      \n",
            " ation)                                                          \n",
            "                                                                 \n",
            " conv_dw_6_relu (ReLU)       (None, None, None, 256)   0         \n",
            "                                                                 \n",
            " conv_pw_6 (Conv2D)          (None, None, None, 512)   131072    \n",
            "                                                                 \n",
            " conv_pw_6_bn (BatchNormaliz  (None, None, None, 512)  2048      \n",
            " ation)                                                          \n",
            "                                                                 \n",
            " conv_pw_6_relu (ReLU)       (None, None, None, 512)   0         \n",
            "                                                                 \n",
            " conv_dw_7 (DepthwiseConv2D)  (None, None, None, 512)  4608      \n",
            "                                                                 \n",
            " conv_dw_7_bn (BatchNormaliz  (None, None, None, 512)  2048      \n",
            " ation)                                                          \n",
            "                                                                 \n",
            " conv_dw_7_relu (ReLU)       (None, None, None, 512)   0         \n",
            "                                                                 \n",
            " conv_pw_7 (Conv2D)          (None, None, None, 512)   262144    \n",
            "                                                                 \n",
            " conv_pw_7_bn (BatchNormaliz  (None, None, None, 512)  2048      \n",
            " ation)                                                          \n",
            "                                                                 \n",
            " conv_pw_7_relu (ReLU)       (None, None, None, 512)   0         \n",
            "                                                                 \n",
            " conv_dw_8 (DepthwiseConv2D)  (None, None, None, 512)  4608      \n",
            "                                                                 \n",
            " conv_dw_8_bn (BatchNormaliz  (None, None, None, 512)  2048      \n",
            " ation)                                                          \n",
            "                                                                 \n",
            " conv_dw_8_relu (ReLU)       (None, None, None, 512)   0         \n",
            "                                                                 \n",
            " conv_pw_8 (Conv2D)          (None, None, None, 512)   262144    \n",
            "                                                                 \n",
            " conv_pw_8_bn (BatchNormaliz  (None, None, None, 512)  2048      \n",
            " ation)                                                          \n",
            "                                                                 \n",
            " conv_pw_8_relu (ReLU)       (None, None, None, 512)   0         \n",
            "                                                                 \n",
            " conv_dw_9 (DepthwiseConv2D)  (None, None, None, 512)  4608      \n",
            "                                                                 \n",
            " conv_dw_9_bn (BatchNormaliz  (None, None, None, 512)  2048      \n",
            " ation)                                                          \n",
            "                                                                 \n",
            " conv_dw_9_relu (ReLU)       (None, None, None, 512)   0         \n",
            "                                                                 \n",
            " conv_pw_9 (Conv2D)          (None, None, None, 512)   262144    \n",
            "                                                                 \n",
            " conv_pw_9_bn (BatchNormaliz  (None, None, None, 512)  2048      \n",
            " ation)                                                          \n",
            "                                                                 \n",
            " conv_pw_9_relu (ReLU)       (None, None, None, 512)   0         \n",
            "                                                                 \n",
            " conv_dw_10 (DepthwiseConv2D  (None, None, None, 512)  4608      \n",
            " )                                                               \n",
            "                                                                 \n",
            " conv_dw_10_bn (BatchNormali  (None, None, None, 512)  2048      \n",
            " zation)                                                         \n",
            "                                                                 \n",
            " conv_dw_10_relu (ReLU)      (None, None, None, 512)   0         \n",
            "                                                                 \n",
            " conv_pw_10 (Conv2D)         (None, None, None, 512)   262144    \n",
            "                                                                 \n",
            " conv_pw_10_bn (BatchNormali  (None, None, None, 512)  2048      \n",
            " zation)                                                         \n",
            "                                                                 \n",
            " conv_pw_10_relu (ReLU)      (None, None, None, 512)   0         \n",
            "                                                                 \n",
            " conv_dw_11 (DepthwiseConv2D  (None, None, None, 512)  4608      \n",
            " )                                                               \n",
            "                                                                 \n",
            " conv_dw_11_bn (BatchNormali  (None, None, None, 512)  2048      \n",
            " zation)                                                         \n",
            "                                                                 \n",
            " conv_dw_11_relu (ReLU)      (None, None, None, 512)   0         \n",
            "                                                                 \n",
            " conv_pw_11 (Conv2D)         (None, None, None, 512)   262144    \n",
            "                                                                 \n",
            " conv_pw_11_bn (BatchNormali  (None, None, None, 512)  2048      \n",
            " zation)                                                         \n",
            "                                                                 \n",
            " conv_pw_11_relu (ReLU)      (None, None, None, 512)   0         \n",
            "                                                                 \n",
            " conv_pad_12 (ZeroPadding2D)  (None, None, None, 512)  0         \n",
            "                                                                 \n",
            " conv_dw_12 (DepthwiseConv2D  (None, None, None, 512)  4608      \n",
            " )                                                               \n",
            "                                                                 \n",
            " conv_dw_12_bn (BatchNormali  (None, None, None, 512)  2048      \n",
            " zation)                                                         \n",
            "                                                                 \n",
            " conv_dw_12_relu (ReLU)      (None, None, None, 512)   0         \n",
            "                                                                 \n",
            " conv_pw_12 (Conv2D)         (None, None, None, 1024)  524288    \n",
            "                                                                 \n",
            " conv_pw_12_bn (BatchNormali  (None, None, None, 1024)  4096     \n",
            " zation)                                                         \n",
            "                                                                 \n",
            " conv_pw_12_relu (ReLU)      (None, None, None, 1024)  0         \n",
            "                                                                 \n",
            " conv_dw_13 (DepthwiseConv2D  (None, None, None, 1024)  9216     \n",
            " )                                                               \n",
            "                                                                 \n",
            " conv_dw_13_bn (BatchNormali  (None, None, None, 1024)  4096     \n",
            " zation)                                                         \n",
            "                                                                 \n",
            " conv_dw_13_relu (ReLU)      (None, None, None, 1024)  0         \n",
            "                                                                 \n",
            " conv_pw_13 (Conv2D)         (None, None, None, 1024)  1048576   \n",
            "                                                                 \n",
            " conv_pw_13_bn (BatchNormali  (None, None, None, 1024)  4096     \n",
            " zation)                                                         \n",
            "                                                                 \n",
            " conv_pw_13_relu (ReLU)      (None, None, None, 1024)  0         \n",
            "                                                                 \n",
            " avg_pool (GlobalAveragePool  (None, 1024)             0         \n",
            " ing2D)                                                          \n",
            "                                                                 \n",
            " dropout (Dropout)           (None, 1024)              0         \n",
            "                                                                 \n",
            " dense (Dense)               (None, 2)                 2050      \n",
            "                                                                 \n",
            "=================================================================\n",
            "Total params: 3,230,914\n",
            "Trainable params: 2,050\n",
            "Non-trainable params: 3,228,864\n",
            "_________________________________________________________________\n"
          ]
        }
      ]
    },
    {
      "cell_type": "markdown",
      "source": [
        "#Getting no of categories for out problem statement"
      ],
      "metadata": {
        "id": "RI7k7nLA9c5k"
      }
    },
    {
      "cell_type": "code",
      "source": [
        "import os                   \n",
        "os.listdir('training_set/training_set')"
      ],
      "metadata": {
        "colab": {
          "base_uri": "https://localhost:8080/"
        },
        "id": "1MYor2vo-dL3",
        "outputId": "606af408-1b83-4406-d471-6963649f90cb"
      },
      "execution_count": 11,
      "outputs": [
        {
          "output_type": "execute_result",
          "data": {
            "text/plain": [
              "['cats', 'dogs']"
            ]
          },
          "metadata": {},
          "execution_count": 11
        }
      ]
    },
    {
      "cell_type": "markdown",
      "source": [
        "#Doing Data Augmentation"
      ],
      "metadata": {
        "id": "wcKHd8Si9l7P"
      }
    },
    {
      "cell_type": "code",
      "source": [
        "width = 299\n",
        "height = 299\n",
        "batch = 32\n",
        "train_dir = '/content/training_set/training_set'\n",
        "test_dir = '/content/test_set/test_set'\n",
        "train_datagen = ImageDataGenerator(\n",
        "    preprocessing_function = preprocess_input,\n",
        "    rotation_range =40,\n",
        "    width_shift_range = 0.2,\n",
        "    height_shift_range =0.2,\n",
        "    shear_range =0.2,\n",
        "    zoom_range = 0.2,\n",
        "    horizontal_flip =True,\n",
        "    fill_mode = 'nearest'\n",
        "     )\n",
        "\n",
        "test_datagen = ImageDataGenerator(\n",
        "    preprocessing_function = preprocess_input,\n",
        "    rotation_range =40,\n",
        "    width_shift_range = 0.2,\n",
        "    height_shift_range =0.2,\n",
        "    shear_range =0.2,\n",
        "    zoom_range = 0.2,\n",
        "    horizontal_flip =True,\n",
        "    fill_mode = 'nearest'\n",
        "     )"
      ],
      "metadata": {
        "id": "tcZqj7rV--u_"
      },
      "execution_count": 12,
      "outputs": []
    },
    {
      "cell_type": "code",
      "source": [
        "train_generator = train_datagen.flow_from_directory(\n",
        "    train_dir ,\n",
        "    target_size =(height , width),\n",
        "    batch_size = batch,\n",
        "    class_mode = 'categorical'\n",
        ")\n",
        "\n",
        "test_generator = test_datagen.flow_from_directory(\n",
        "    test_dir ,\n",
        "    target_size =(height , width),\n",
        "    batch_size = batch,\n",
        "    class_mode = 'categorical'\n",
        ")"
      ],
      "metadata": {
        "colab": {
          "base_uri": "https://localhost:8080/"
        },
        "id": "dyyA199lB5x-",
        "outputId": "70f33023-047f-4b3a-87af-fc6c011cafd4"
      },
      "execution_count": 13,
      "outputs": [
        {
          "output_type": "stream",
          "name": "stdout",
          "text": [
            "Found 8005 images belonging to 2 classes.\n",
            "Found 2023 images belonging to 2 classes.\n"
          ]
        }
      ]
    },
    {
      "cell_type": "code",
      "source": [
        "data = next(train_generator)"
      ],
      "metadata": {
        "id": "nbsdRfO6C_wQ"
      },
      "execution_count": 14,
      "outputs": []
    },
    {
      "cell_type": "code",
      "source": [
        "steps_per_epoch = train_generator.n//train_generator.batch_size\n",
        "steps_per_epoch"
      ],
      "metadata": {
        "colab": {
          "base_uri": "https://localhost:8080/"
        },
        "id": "2rPboIT9DX19",
        "outputId": "4e4d58a5-2f25-488d-fbb6-0bc1d38423f6"
      },
      "execution_count": 15,
      "outputs": [
        {
          "output_type": "execute_result",
          "data": {
            "text/plain": [
              "250"
            ]
          },
          "metadata": {},
          "execution_count": 15
        }
      ]
    },
    {
      "cell_type": "markdown",
      "source": [
        "#Training and Testing Model"
      ],
      "metadata": {
        "id": "VjDMWOM891y6"
      }
    },
    {
      "cell_type": "code",
      "source": [
        "model.fit(train_generator , epochs =5 , validation_data = test_generator , steps_per_epoch =steps_per_epoch,  verbose =1)"
      ],
      "metadata": {
        "colab": {
          "base_uri": "https://localhost:8080/"
        },
        "id": "Q6ZvmAm7DZgb",
        "outputId": "72f02ba8-4a77-4014-a0ee-b9c02294f8c3"
      },
      "execution_count": 16,
      "outputs": [
        {
          "output_type": "stream",
          "name": "stdout",
          "text": [
            "Epoch 1/5\n",
            "250/250 [==============================] - 227s 871ms/step - loss: 0.2420 - accuracy: 0.8953 - val_loss: 0.0993 - val_accuracy: 0.9654\n",
            "Epoch 2/5\n",
            "250/250 [==============================] - 218s 874ms/step - loss: 0.1165 - accuracy: 0.9543 - val_loss: 0.0706 - val_accuracy: 0.9758\n",
            "Epoch 3/5\n",
            "250/250 [==============================] - 215s 861ms/step - loss: 0.0950 - accuracy: 0.9638 - val_loss: 0.0622 - val_accuracy: 0.9792\n",
            "Epoch 4/5\n",
            "250/250 [==============================] - 225s 899ms/step - loss: 0.0975 - accuracy: 0.9590 - val_loss: 0.0615 - val_accuracy: 0.9787\n",
            "Epoch 5/5\n",
            "250/250 [==============================] - 217s 868ms/step - loss: 0.0947 - accuracy: 0.9638 - val_loss: 0.0632 - val_accuracy: 0.9763\n"
          ]
        },
        {
          "output_type": "execute_result",
          "data": {
            "text/plain": [
              "<keras.callbacks.History at 0x7f01e18c1ab0>"
            ]
          },
          "metadata": {},
          "execution_count": 16
        }
      ]
    },
    {
      "cell_type": "code",
      "source": [
        "img = keras.utils.load_img('/content/dog.jpg',target_size =(299,299))"
      ],
      "metadata": {
        "id": "ci7231lmKsIi"
      },
      "execution_count": 20,
      "outputs": []
    },
    {
      "cell_type": "code",
      "source": [
        "img"
      ],
      "metadata": {
        "colab": {
          "base_uri": "https://localhost:8080/",
          "height": 316
        },
        "id": "QD5tClyVQE7B",
        "outputId": "b50a2a3f-e840-427b-95d5-fc7a3718d597"
      },
      "execution_count": 21,
      "outputs": [
        {
          "output_type": "execute_result",
          "data": {
            "text/plain": [
              "<PIL.Image.Image image mode=RGB size=299x299 at 0x7F01E16FB7C0>"
            ],
            "image/png": "[encoded data removed]"
          },
          "metadata": {},
          "execution_count": 21
        }
      ]
    },
    {
      "cell_type": "code",
      "source": [
        "img = keras.utils.img_to_array(img)"
      ],
      "metadata": {
        "id": "7KZTD4XsRJBS"
      },
      "execution_count": 22,
      "outputs": []
    },
    {
      "cell_type": "code",
      "source": [
        "img.shape"
      ],
      "metadata": {
        "colab": {
          "base_uri": "https://localhost:8080/"
        },
        "id": "SOJtTA-lSqiv",
        "outputId": "3b02414c-ece6-4af6-be7e-22fb90ae8774"
      },
      "execution_count": 23,
      "outputs": [
        {
          "output_type": "execute_result",
          "data": {
            "text/plain": [
              "(299, 299, 3)"
            ]
          },
          "metadata": {},
          "execution_count": 23
        }
      ]
    },
    {
      "cell_type": "code",
      "source": [
        "img = preprocess_input(img)"
      ],
      "metadata": {
        "id": "VbXs0idCRWhK"
      },
      "execution_count": 24,
      "outputs": []
    },
    {
      "cell_type": "code",
      "source": [
        "x = np.expand_dims(img,axis = 0)"
      ],
      "metadata": {
        "id": "WTmpzuO2Rs0k"
      },
      "execution_count": 25,
      "outputs": []
    },
    {
      "cell_type": "code",
      "source": [
        "x.shape"
      ],
      "metadata": {
        "colab": {
          "base_uri": "https://localhost:8080/"
        },
        "id": "dMGyUIBtR-gD",
        "outputId": "e0a430d9-a544-4132-8092-4137528dfa37"
      },
      "execution_count": 26,
      "outputs": [
        {
          "output_type": "execute_result",
          "data": {
            "text/plain": [
              "(1, 299, 299, 3)"
            ]
          },
          "metadata": {},
          "execution_count": 26
        }
      ]
    },
    {
      "cell_type": "code",
      "source": [
        "pred = model.predict(x)"
      ],
      "metadata": {
        "colab": {
          "base_uri": "https://localhost:8080/"
        },
        "id": "Ke1w6Dm2SLcl",
        "outputId": "e90a773c-b47e-4c8b-b1dc-64fee9f76447"
      },
      "execution_count": 27,
      "outputs": [
        {
          "output_type": "stream",
          "name": "stdout",
          "text": [
            "1/1 [==============================] - 1s 893ms/step\n"
          ]
        }
      ]
    },
    {
      "cell_type": "code",
      "source": [
        "pred"
      ],
      "metadata": {
        "colab": {
          "base_uri": "https://localhost:8080/"
        },
        "id": "8BIBObB-Utg0",
        "outputId": "96ec7bc7-daac-4153-a170-6045a91e1855"
      },
      "execution_count": 28,
      "outputs": [
        {
          "output_type": "execute_result",
          "data": {
            "text/plain": [
              "array([[4.1354364e-05, 9.9995863e-01]], dtype=float32)"
            ]
          },
          "metadata": {},
          "execution_count": 28
        }
      ]
    },
    {
      "cell_type": "code",
      "source": [
        "os.listdir('training_set/training_set')"
      ],
      "metadata": {
        "id": "ZTg6kKn6VB3u",
        "colab": {
          "base_uri": "https://localhost:8080/"
        },
        "outputId": "525d2c69-7f0e-4446-ed92-d4edf07f047d"
      },
      "execution_count": 29,
      "outputs": [
        {
          "output_type": "execute_result",
          "data": {
            "text/plain": [
              "['cats', 'dogs']"
            ]
          },
          "metadata": {},
          "execution_count": 29
        }
      ]
    },
    {
      "cell_type": "markdown",
      "source": [
        "#Importing model to pickle file"
      ],
      "metadata": {
        "id": "KCDA1u2DPeSU"
      }
    },
    {
      "cell_type": "code",
      "source": [
        "import pickle"
      ],
      "metadata": {
        "id": "evkXtMMLPBaC"
      },
      "execution_count": 30,
      "outputs": []
    },
    {
      "cell_type": "code",
      "source": [
        "with open('model.pkl','wb') as file:\n",
        "  pickle.dump(model,file)"
      ],
      "metadata": {
        "id": "SodY3GqsNoU9"
      },
      "execution_count": 31,
      "outputs": []
    },
    {
      "cell_type": "code",
      "source": [],
      "metadata": {
        "id": "zin-pLSyPE6L"
      },
      "execution_count": null,
      "outputs": []
    }
  ]
}